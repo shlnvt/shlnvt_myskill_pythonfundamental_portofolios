{
  "nbformat": 4,
  "nbformat_minor": 0,
  "metadata": {
    "colab": {
      "provenance": [],
      "authorship_tag": "ABX9TyODWPowEpQH+TA2/IipGjrR",
      "include_colab_link": true
    },
    "kernelspec": {
      "name": "python3",
      "display_name": "Python 3"
    },
    "language_info": {
      "name": "python"
    }
  },
  "cells": [
    {
      "cell_type": "markdown",
      "metadata": {
        "id": "view-in-github",
        "colab_type": "text"
      },
      "source": [
        "<a href=\"https://colab.research.google.com/github/shlnvt/shlnvt_myskill_pythonfundamental_portofolios/blob/main/Regular_Expression_Python.ipynb\" target=\"_parent\"><img src=\"https://colab.research.google.com/assets/colab-badge.svg\" alt=\"Open In Colab\"/></a>"
      ]
    },
    {
      "cell_type": "markdown",
      "source": [
        "#What is regular expression"
      ],
      "metadata": {
        "id": "wj3b6wynyGkg"
      }
    },
    {
      "cell_type": "code",
      "execution_count": 1,
      "metadata": {
        "colab": {
          "base_uri": "https://localhost:8080/"
        },
        "id": "nbv3SNv5xhwU",
        "outputId": "bcf735ac-3624-4cb5-c25d-54261e98b500"
      },
      "outputs": [
        {
          "output_type": "stream",
          "name": "stdout",
          "text": [
            "Start index:  9\n",
            "End index:  15\n"
          ]
        }
      ],
      "source": [
        "import re\n",
        "\n",
        "s = 'MySkill: portal for any learning path'\n",
        "\n",
        "match = re.search(r'portal', s)\n",
        "\n",
        "print('Start index: ', match.start())\n",
        "print('End index: ', match.end())"
      ]
    },
    {
      "cell_type": "markdown",
      "source": [
        "#Metacharacter"
      ],
      "metadata": {
        "id": "kUCwntnP4wk_"
      }
    },
    {
      "cell_type": "markdown",
      "source": [
        "##Example metacharacter"
      ],
      "metadata": {
        "id": "fXPJryUL4zKt"
      }
    },
    {
      "cell_type": "code",
      "source": [
        "import re\n",
        "\n",
        "s = 'My.Skill'\n",
        "\n",
        "# without using \\\n",
        "match = re.search(r'.', s)\n",
        "print(match)\n",
        "\n",
        "# using \\\n",
        "match = re.search(r'\\.', s)\n",
        "print(match)"
      ],
      "metadata": {
        "colab": {
          "base_uri": "https://localhost:8080/"
        },
        "id": "ina6aCmA4tUa",
        "outputId": "82ccd9e0-3fbc-4306-d6e0-f8476c808844"
      },
      "execution_count": 3,
      "outputs": [
        {
          "output_type": "stream",
          "name": "stdout",
          "text": [
            "<re.Match object; span=(0, 1), match='M'>\n",
            "<re.Match object; span=(2, 3), match='.'>\n"
          ]
        }
      ]
    },
    {
      "cell_type": "markdown",
      "source": [
        "#Module Regex -re library"
      ],
      "metadata": {
        "id": "enj6U1QP65Dw"
      }
    },
    {
      "cell_type": "markdown",
      "source": [
        "##re.findall()"
      ],
      "metadata": {
        "id": "79uwE_bT69G8"
      }
    },
    {
      "cell_type": "code",
      "source": [
        "import re\n",
        "\n",
        "# a sample text string where regular expression\n",
        "# is searched\n",
        "string = \"\"\"Hello my student id is 923472387 and\n",
        "            my friend's number student id is '234130324'\"\"\"\n",
        "\n",
        "# a sample is regular expression to find digits\n",
        "regex = '\\d+'\n",
        "\n",
        "match = re.findall(regex, string)\n",
        "print(match)"
      ],
      "metadata": {
        "colab": {
          "base_uri": "https://localhost:8080/"
        },
        "id": "H2qfsWPL6rWG",
        "outputId": "f4387dc4-16ee-48b5-8085-4da1bbdc4b8c"
      },
      "execution_count": 5,
      "outputs": [
        {
          "output_type": "stream",
          "name": "stdout",
          "text": [
            "['923472387', '234130324']\n"
          ]
        }
      ]
    },
    {
      "cell_type": "markdown",
      "source": [
        "##re.compile"
      ],
      "metadata": {
        "id": "hnVraPuMCcOc"
      }
    },
    {
      "cell_type": "code",
      "source": [
        "# example 1\n",
        "import re\n",
        "\n",
        "# compile() creates regular expression\n",
        "# character class [a-e],\n",
        "# which is equivalent to [abcde],\n",
        "# class [abcde] will match with string with\n",
        "# 'a', 'b', 'c', 'd', 'e'.\n",
        "p = re.compile(\"[a-e]\")\n",
        "\n",
        "# findall() searches for the regular expression\n",
        "# and return a list upon finding\n",
        "print(p.findall(\"Aye, said Mr. Gibenson Stark\"))"
      ],
      "metadata": {
        "colab": {
          "base_uri": "https://localhost:8080/"
        },
        "id": "2l_4K0g4CZbr",
        "outputId": "319d224b-73eb-44ea-8ed5-01a80dfcea0d"
      },
      "execution_count": 6,
      "outputs": [
        {
          "output_type": "stream",
          "name": "stdout",
          "text": [
            "['e', 'a', 'd', 'b', 'e', 'a']\n"
          ]
        }
      ]
    },
    {
      "cell_type": "code",
      "source": [
        "# example 2\n",
        "import re\n",
        "\n",
        "# \\d is equivalent to [0-9]\n",
        "p = re.compile('\\d')\n",
        "print(p.findall(\"I went to him at 11 A.M. on 4th July 1886\"))\n",
        "\n",
        "# \\d+ will match a group on [0-9], group\n",
        "# of one or greater size\n",
        "p = re.compile('\\d+')\n",
        "print(p.findall(\"I went to him at 11 A.M. on 4th July 1886\"))"
      ],
      "metadata": {
        "colab": {
          "base_uri": "https://localhost:8080/"
        },
        "id": "CnDV3ytrDXBR",
        "outputId": "633156ce-5ce7-4ccb-bd96-38bd83683753"
      },
      "execution_count": 9,
      "outputs": [
        {
          "output_type": "stream",
          "name": "stdout",
          "text": [
            "['1', '1', '4', '1', '8', '8', '6']\n",
            "['11', '4', '1886']\n"
          ]
        }
      ]
    },
    {
      "cell_type": "markdown",
      "source": [
        "##re.split()"
      ],
      "metadata": {
        "id": "0TuSigu0Eoh0"
      }
    },
    {
      "cell_type": "code",
      "source": [
        "# example 1\n",
        "from re import split\n",
        "\n",
        "# '\\W+' denotes Non-Alphanumeric characters\n",
        "# or group of characters open finding ','\n",
        "# or whitespace ' ', the split(), splits the\n",
        "# string from that point\n",
        "print(split('\\W+', 'Words, words, Words'))\n",
        "print(split('\\W+', \"Word's words Words\"))\n",
        "\n",
        "# here ':', ' ', ',' are not Alphanumeric thus,\n",
        "# the point where splitting occurs\n",
        "print(split('\\W+', 'On 12th Jan 2016, at 11:02 AM'))\n",
        "\n",
        "# '\\d+' denotes numeric characters or group of\n",
        "# characters splitting occurs at '12', '2016'\n",
        "# '11', '02' only\n",
        "print(split('\\d+', 'On 12th Jan 2016, at 11:02 AM'))"
      ],
      "metadata": {
        "colab": {
          "base_uri": "https://localhost:8080/"
        },
        "id": "0QNlqC8YEIIA",
        "outputId": "79d7ef49-1d34-454b-9dca-01fec2271354"
      },
      "execution_count": 13,
      "outputs": [
        {
          "output_type": "stream",
          "name": "stdout",
          "text": [
            "['Words', 'words', 'Words']\n",
            "['Word', 's', 'words', 'Words']\n",
            "['On', '12th', 'Jan', '2016', 'at', '11', '02', 'AM']\n",
            "['On ', 'th Jan ', ', at ', ':', ' AM']\n"
          ]
        }
      ]
    },
    {
      "cell_type": "code",
      "source": [
        "# example 2\n",
        "\n",
        "import re\n",
        "\n",
        "# splitting will occurs only once, at\n",
        "# '12', returned list will here length 2\n",
        "print(re.split('\\d+', 'On 12th Jan 2016, at 11:02 AM', 1))\n",
        "\n",
        "# 'Boy' and 'boy' will be treated same when\n",
        "# flags = re.IGNORECASE\n",
        "print(re.split('[a-f]+', 'Aey, Boy oh boy, come here', flags=re.IGNORECASE))\n",
        "print(re.split('[a-f]+', 'Aey, Boy oh boy, come here'))"
      ],
      "metadata": {
        "colab": {
          "base_uri": "https://localhost:8080/"
        },
        "id": "8RoSGcAcFfw8",
        "outputId": "d92af68e-8624-4c9c-ed69-4dbb91553ce8"
      },
      "execution_count": 16,
      "outputs": [
        {
          "output_type": "stream",
          "name": "stdout",
          "text": [
            "['On ', 'th Jan 2016, at 11:02 AM']\n",
            "['', 'y, ', 'oy oh ', 'oy, ', 'om', ' h', 'r', '']\n",
            "['A', 'y, Boy oh ', 'oy, ', 'om', ' h', 'r', '']\n"
          ]
        }
      ]
    },
    {
      "cell_type": "markdown",
      "source": [
        "##re.sub()"
      ],
      "metadata": {
        "id": "tkBKG8ZLfFNY"
      }
    },
    {
      "cell_type": "code",
      "source": [
        "import re\n",
        "\n",
        "# reguler expression pattern 'ub' matches the\n",
        "# string at 'Subject' and 'Uber' as the CASE\n",
        "# has been ignored, using flag, 'ub' should\n",
        "# match twice with the string upon matching,\n",
        "# 'ub' is replaced by '-*' in 'Subject', and\n",
        "# in 'Uber', 'Ub' is replaced.\n",
        "print(re.sub('ub', '-*', 'Subject has Uber booked already',\n",
        "             flags=re.IGNORECASE))\n",
        "\n",
        "# consider the case sensitivity, 'Ub' in\n",
        "# 'Uber', will not be replaced.\n",
        "print(re.sub('ub', '-*', 'Subject has Uber booked already'))\n",
        "\n",
        "# as count has been given value 1, the maximum\n",
        "# times replacement occurs is 1\n",
        "print(re.sub('ub', '-*', 'Subject has Uber booked already',\n",
        "             count=1, flags=re.IGNORECASE))\n",
        "\n",
        "# 'r' before the pattern denotes RE, \\s is for\n",
        "# start and end of a string\n",
        "print(re.sub(r'\\sAND\\s', ' & ', 'Baked Beans And Span',\n",
        "             flags=re.IGNORECASE))"
      ],
      "metadata": {
        "colab": {
          "base_uri": "https://localhost:8080/"
        },
        "id": "N5iCNGACd03-",
        "outputId": "b3cddf1f-aa43-4339-e500-213764f3b7cc"
      },
      "execution_count": 22,
      "outputs": [
        {
          "output_type": "stream",
          "name": "stdout",
          "text": [
            "S-*ject has -*er booked already\n",
            "S-*ject has Uber booked already\n",
            "S-*ject has Uber booked already\n",
            "Baked Beans & Span\n"
          ]
        }
      ]
    },
    {
      "cell_type": "markdown",
      "source": [
        "##re.subn()"
      ],
      "metadata": {
        "id": "GYwBnRlii_w3"
      }
    },
    {
      "cell_type": "code",
      "source": [
        "import re\n",
        "\n",
        "print(re.subn('ub', '-*', 'Subject has Uber booked already'))\n",
        "\n",
        "t = re.subn('ub', '-*', 'Subject has Uber booked already',\n",
        "            flags=re.IGNORECASE)\n",
        "print(t)\n",
        "print(len(t))\n",
        "\n",
        "# this will give same output as sub() would have\n",
        "print(t[0])"
      ],
      "metadata": {
        "colab": {
          "base_uri": "https://localhost:8080/"
        },
        "id": "amjcdlbKgj3L",
        "outputId": "46224a49-07b1-4d34-ba59-925f770c1a0f"
      },
      "execution_count": 23,
      "outputs": [
        {
          "output_type": "stream",
          "name": "stdout",
          "text": [
            "('S-*ject has Uber booked already', 1)\n",
            "('S-*ject has -*er booked already', 2)\n",
            "2\n",
            "S-*ject has -*er booked already\n"
          ]
        }
      ]
    },
    {
      "cell_type": "markdown",
      "source": [
        "##re.escape()"
      ],
      "metadata": {
        "id": "vWvtzdrfkXir"
      }
    },
    {
      "cell_type": "code",
      "source": [
        "import re\n",
        "\n",
        "# escape() returns a string with backslash '\\',\n",
        "# before every no-alphanumeric character\n",
        "# in 1st case only ' ', is not alphanumeric\n",
        "# in 2nd case, ' ', caret '^', '-', '[]', '\\'\n",
        "# are not alphanumeric\n",
        "print(re.escape(\"This is Awesome even 1 AM\"))\n",
        "print(re.escape(\"I Asked what is this [a-9], he said \\t ^Wow\"))"
      ],
      "metadata": {
        "colab": {
          "base_uri": "https://localhost:8080/"
        },
        "id": "2TaM2ZQQkSW5",
        "outputId": "0a3c030d-0bf5-4c4a-cf08-57d140468c28"
      },
      "execution_count": 24,
      "outputs": [
        {
          "output_type": "stream",
          "name": "stdout",
          "text": [
            "This\\ is\\ Awesome\\ even\\ 1\\ AM\n",
            "I\\ Asked\\ what\\ is\\ this\\ \\[a\\-9\\],\\ he\\ said\\ \\\t\\ \\^Wow\n"
          ]
        }
      ]
    },
    {
      "cell_type": "markdown",
      "source": [
        "##re.search()"
      ],
      "metadata": {
        "id": "DL1BPSLmlTRz"
      }
    },
    {
      "cell_type": "code",
      "source": [
        "# a python program to demonstrate workng of re.match()\n",
        "import re\n",
        "\n",
        "# lets use a reguler expression to match a date string\n",
        "# in the form of month name followed by day number\n",
        "regex = r\"([a-zA-Z]+) (\\d+)\"\n",
        "\n",
        "match = re.search(regex, \"I was born on June 24\")\n",
        "\n",
        "if match != None:\n",
        "\n",
        "  # we reach here when the expression \"([a-zA-z]+) (\\d+)\"\n",
        "  # matches the date string\n",
        "\n",
        "  # this will print [14, 21], since it matches at index 14\n",
        "  # and ends at 21,\n",
        "  print(\"Match at index %s, %s\" % (match.start(), match.end()))\n",
        "\n",
        "  # we use group() method to get all the matches and\n",
        "  # captured groups. the groups contains the matched values.\n",
        "  # in particular:\n",
        "  # match.group(0) always returns the fully matched string\n",
        "  # match.group(1) match.group(2), ... return the capture\n",
        "  # group in order from left to right in the input string\n",
        "  # match.group() is equivalent to match.group(0)\n",
        "\n",
        "  # so this will print \"June 24\"\n",
        "  print(\"Full match: %s\" % (match.group(0)))\n",
        "\n",
        "  # so this will print \"June\"\n",
        "  print(\"Month: %s\" % (match.group(1)))\n",
        "\n",
        "  # so this will print \"24\"\n",
        "  print(\"Day: %s\" % (match.group(2)))\n",
        "\n",
        "else:\n",
        "  print(\"The regex pattern does not match.\")"
      ],
      "metadata": {
        "colab": {
          "base_uri": "https://localhost:8080/"
        },
        "id": "eS3xcwTVlOiN",
        "outputId": "b39f841e-e24c-4002-e6f9-fc554593320b"
      },
      "execution_count": 31,
      "outputs": [
        {
          "output_type": "stream",
          "name": "stdout",
          "text": [
            "Match at index 14, 21\n",
            "Full match: June 24\n",
            "Month: June\n",
            "Day: 24\n"
          ]
        }
      ]
    },
    {
      "cell_type": "markdown",
      "source": [
        "#Match object"
      ],
      "metadata": {
        "id": "fhVPLQZCsVQL"
      }
    },
    {
      "cell_type": "code",
      "source": [
        "import re\n",
        "\n",
        "s = \"Greeting to MYSKILL PORTAL\"\n",
        "\n",
        "# here s is the match object\n",
        "res = re.search(r\"\\bG\", s)\n",
        "\n",
        "print(res.re)\n",
        "print(res.string)"
      ],
      "metadata": {
        "colab": {
          "base_uri": "https://localhost:8080/"
        },
        "id": "g5TIoPuZpvgf",
        "outputId": "87b575c8-e7bc-451a-f70b-481a5f6a89ce"
      },
      "execution_count": 35,
      "outputs": [
        {
          "output_type": "stream",
          "name": "stdout",
          "text": [
            "re.compile('\\\\bG')\n",
            "Greeting to MYSKILL PORTAL\n"
          ]
        }
      ]
    },
    {
      "cell_type": "code",
      "source": [
        "import re\n",
        "\n",
        "x = \"Welcome to SeedsLand\"\n",
        "\n",
        "# here x is the match object\n",
        "res = re.search(r\"\\bSee\", x)\n",
        "\n",
        "print(res.start())\n",
        "print(res.end())\n",
        "print(res.span())"
      ],
      "metadata": {
        "colab": {
          "base_uri": "https://localhost:8080/"
        },
        "id": "JIN2FbGrt9a5",
        "outputId": "ad15c952-46da-41f1-c094-6f11c07110ae"
      },
      "execution_count": 34,
      "outputs": [
        {
          "output_type": "stream",
          "name": "stdout",
          "text": [
            "11\n",
            "14\n",
            "(11, 14)\n"
          ]
        }
      ]
    },
    {
      "cell_type": "code",
      "source": [],
      "metadata": {
        "id": "VhQ1EVCsuVAs"
      },
      "execution_count": null,
      "outputs": []
    }
  ]
}