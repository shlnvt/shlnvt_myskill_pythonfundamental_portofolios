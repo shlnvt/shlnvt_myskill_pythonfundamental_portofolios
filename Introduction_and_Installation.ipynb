{
  "nbformat": 4,
  "nbformat_minor": 0,
  "metadata": {
    "colab": {
      "provenance": [],
      "authorship_tag": "ABX9TyNhJQx/QSvr4yPcJTffXitD",
      "include_colab_link": true
    },
    "kernelspec": {
      "name": "python3",
      "display_name": "Python 3"
    },
    "language_info": {
      "name": "python"
    }
  },
  "cells": [
    {
      "cell_type": "markdown",
      "metadata": {
        "id": "view-in-github",
        "colab_type": "text"
      },
      "source": [
        "<a href=\"https://colab.research.google.com/github/shlnvt/shlnvt_myskill_pythonfundamental_portofolios/blob/main/Introduction_and_Installation.ipynb\" target=\"_parent\"><img src=\"https://colab.research.google.com/assets/colab-badge.svg\" alt=\"Open In Colab\"/></a>"
      ]
    },
    {
      "cell_type": "code",
      "execution_count": 1,
      "metadata": {
        "id": "lj4Pnwuyehj4"
      },
      "outputs": [],
      "source": [
        "import numpy as np\n",
        "import pandas as pd\n",
        "import seaborn as sns\n",
        "import matplotlib as plt"
      ]
    },
    {
      "cell_type": "markdown",
      "source": [
        "#Syntax in Python"
      ],
      "metadata": {
        "id": "vqWnBmJweskb"
      }
    },
    {
      "cell_type": "code",
      "source": [
        "# set the midpoint\n",
        "midpoint = 5\n",
        "\n",
        "# make two empty lists\n",
        "lower = []; upper = []\n",
        "\n",
        "# split the numbers into lower and upper\n",
        "for i in range(10):\n",
        "  if (i < midpoint):\n",
        "    lower.append(i)\n",
        "  else:\n",
        "    upper.append(i)\n",
        "\n",
        "print(\"lower:\", lower)\n",
        "print(\"upper\", upper)"
      ],
      "metadata": {
        "colab": {
          "base_uri": "https://localhost:8080/"
        },
        "id": "xrVzvgOTeqTA",
        "outputId": "6c1da6b3-88e3-43f3-f09c-b46cef930659"
      },
      "execution_count": 3,
      "outputs": [
        {
          "output_type": "stream",
          "name": "stdout",
          "text": [
            "lower: [0, 1, 2, 3, 4]\n",
            "upper [5, 6, 7, 8, 9]\n"
          ]
        }
      ]
    },
    {
      "cell_type": "markdown",
      "source": [
        "#Common Data Structure"
      ],
      "metadata": {
        "id": "u-dHbwhdgQBb"
      }
    },
    {
      "cell_type": "code",
      "source": [
        "# Lists\n",
        "\n",
        "my_list = [] #create empty list\n",
        "print(my_list)\n",
        "my_list = [1, 2, 3, 'example', 3.14] #creating list with data\n",
        "print(my_list)"
      ],
      "metadata": {
        "colab": {
          "base_uri": "https://localhost:8080/"
        },
        "id": "I0kLULyWgHFS",
        "outputId": "bee7809e-71b4-4185-ebbf-f55b3ac9afe0"
      },
      "execution_count": 4,
      "outputs": [
        {
          "output_type": "stream",
          "name": "stdout",
          "text": [
            "[]\n",
            "[1, 2, 3, 'example', 3.14]\n"
          ]
        }
      ]
    },
    {
      "cell_type": "code",
      "source": [
        "#Dictionary\n",
        "\n",
        "my_dict = {'First': 'Python', 'Second': 'Java'}\n",
        "print(my_dict)\n",
        "my_dict['Second'] = 'C++' #changing element\n",
        "print(my_dict)\n",
        "my_dict['Third'] = 'Ruby' #adding key-value pair\n",
        "print(my_dict)"
      ],
      "metadata": {
        "colab": {
          "base_uri": "https://localhost:8080/"
        },
        "id": "u9Uir7P-oef5",
        "outputId": "9a28b393-2b13-4bcc-863e-b69e979d9e7e"
      },
      "execution_count": 5,
      "outputs": [
        {
          "output_type": "stream",
          "name": "stdout",
          "text": [
            "{'First': 'Python', 'Second': 'Java'}\n",
            "{'First': 'Python', 'Second': 'C++'}\n",
            "{'First': 'Python', 'Second': 'C++', 'Third': 'Ruby'}\n"
          ]
        }
      ]
    },
    {
      "cell_type": "code",
      "source": [
        "#Tuple\n",
        "\n",
        "my_tuple = (1, 2, 3, 'myskill') #creating tuple\n",
        "print(my_tuple)\n",
        "print(my_tuple[0])\n",
        "print(my_tuple[:])\n",
        "print(my_tuple[3][4])"
      ],
      "metadata": {
        "colab": {
          "base_uri": "https://localhost:8080/"
        },
        "id": "aBwEBS7xpCer",
        "outputId": "c33625b8-bd89-42ba-ac9e-d154b5ce4266"
      },
      "execution_count": 6,
      "outputs": [
        {
          "output_type": "stream",
          "name": "stdout",
          "text": [
            "(1, 2, 3, 'myskill')\n",
            "1\n",
            "(1, 2, 3, 'myskill')\n",
            "i\n"
          ]
        }
      ]
    },
    {
      "cell_type": "code",
      "source": [
        "#Sets\n",
        "\n",
        "my_set = {1, 2, 3, 4, 5, 5, 5} #create set\n",
        "print(my_set)\n",
        "my_set.add(4) #add element to set\n",
        "print(my_set)"
      ],
      "metadata": {
        "colab": {
          "base_uri": "https://localhost:8080/"
        },
        "id": "iVBRBDpqp64s",
        "outputId": "3774faec-9dc7-46be-de0c-3f8aafa1a880"
      },
      "execution_count": 7,
      "outputs": [
        {
          "output_type": "stream",
          "name": "stdout",
          "text": [
            "{1, 2, 3, 4, 5}\n",
            "{1, 2, 3, 4, 5}\n"
          ]
        }
      ]
    },
    {
      "cell_type": "code",
      "source": [
        "my_set = {1, 2, 3, 4}\n",
        "my_set_2 = {3, 4, 5, 6}\n",
        "print(my_set.union(my_set_2), '-----', my_set | my_set_2)\n",
        "print(my_set.intersection(my_set_2), '-----', my_set & my_set_2)\n",
        "print(my_set.difference(my_set_2), '-----', my_set - my_set_2)\n",
        "print(my_set.symmetric_difference(my_set_2), '-----', my_set ^ my_set_2)\n",
        "my_set.clear()\n",
        "print(my_set)"
      ],
      "metadata": {
        "colab": {
          "base_uri": "https://localhost:8080/"
        },
        "id": "nORw6bulqcs0",
        "outputId": "3e093331-e45b-454e-9be5-b591bf8f7c4a"
      },
      "execution_count": 9,
      "outputs": [
        {
          "output_type": "stream",
          "name": "stdout",
          "text": [
            "{1, 2, 3, 4, 5, 6} ----- {1, 2, 3, 4, 5, 6}\n",
            "{3, 4} ----- {3, 4}\n",
            "{1, 2} ----- {1, 2}\n",
            "{1, 2, 5, 6} ----- {1, 2, 5, 6}\n",
            "set()\n"
          ]
        }
      ]
    },
    {
      "cell_type": "markdown",
      "source": [
        "#Conditional Statement"
      ],
      "metadata": {
        "id": "zv_tkjwosgAV"
      }
    },
    {
      "cell_type": "code",
      "source": [
        "# IF Statement\n",
        "\n",
        "num = 5\n",
        "if num > 0:\n",
        "  print(num, 'is a positive number.')\n",
        "  print('This statement is true.')"
      ],
      "metadata": {
        "colab": {
          "base_uri": "https://localhost:8080/"
        },
        "id": "Plv6ZhbKr14t",
        "outputId": "99e4d588-47ff-42c5-a23f-b2105ad798e2"
      },
      "execution_count": 10,
      "outputs": [
        {
          "output_type": "stream",
          "name": "stdout",
          "text": [
            "5 is a positive number.\n",
            "This statement is true.\n"
          ]
        }
      ]
    },
    {
      "cell_type": "code",
      "source": [
        "# IF Else Statement\n",
        "\n",
        "num = 5\n",
        "if num >=0:\n",
        "  print('Positive or Zero')\n",
        "else:\n",
        "  print('Negative number')"
      ],
      "metadata": {
        "colab": {
          "base_uri": "https://localhost:8080/"
        },
        "id": "l41OSJWjt05c",
        "outputId": "32f3e50e-7f07-4818-bf4a-8dffefd1d078"
      },
      "execution_count": 11,
      "outputs": [
        {
          "output_type": "stream",
          "name": "stdout",
          "text": [
            "Positive or Zero\n"
          ]
        }
      ]
    },
    {
      "cell_type": "code",
      "source": [
        "# IF, Elif, Else Statement\n",
        "\n",
        "num = 7\n",
        "if num > 0:\n",
        "  print('Positif number')\n",
        "elif num == 0:\n",
        "  print('Zero')\n",
        "else:\n",
        "  print('Negative number')"
      ],
      "metadata": {
        "colab": {
          "base_uri": "https://localhost:8080/"
        },
        "id": "mnePkU1Ju0ym",
        "outputId": "c2b80dba-def4-480c-a40c-9c03c2ecdaf0"
      },
      "execution_count": 12,
      "outputs": [
        {
          "output_type": "stream",
          "name": "stdout",
          "text": [
            "Positif number\n"
          ]
        }
      ]
    },
    {
      "cell_type": "code",
      "source": [
        "# IF nested\n",
        "\n",
        "num = 8\n",
        "if num >= 0:\n",
        "  if num ==0:\n",
        "    print('Zero')\n",
        "  else:\n",
        "    print('Positive number')\n",
        "else:\n",
        "  print('Negative number')"
      ],
      "metadata": {
        "colab": {
          "base_uri": "https://localhost:8080/"
        },
        "id": "xWTnlWJzwx6u",
        "outputId": "aeb60896-b53b-4514-9e4e-06254520f46f"
      },
      "execution_count": 13,
      "outputs": [
        {
          "output_type": "stream",
          "name": "stdout",
          "text": [
            "Positive number\n"
          ]
        }
      ]
    },
    {
      "cell_type": "markdown",
      "source": [
        "#Loops"
      ],
      "metadata": {
        "id": "ngqieo28xX0N"
      }
    },
    {
      "cell_type": "code",
      "source": [
        "# While loop\n",
        "\n",
        "num = 1\n",
        "odd_num = []\n",
        "while num:\n",
        "  if num % 2 != 0:\n",
        "    odd_num.append(num)\n",
        "  if num >= 20:\n",
        "    break\n",
        "  num += 1\n",
        "print('Odd number: ', odd_num)"
      ],
      "metadata": {
        "colab": {
          "base_uri": "https://localhost:8080/"
        },
        "id": "pzXKO4n2xWAA",
        "outputId": "134439b2-686b-40d0-ee0d-ae8085b2d13a"
      },
      "execution_count": 14,
      "outputs": [
        {
          "output_type": "stream",
          "name": "stdout",
          "text": [
            "Odd number:  [1, 3, 5, 7, 9, 11, 13, 15, 17, 19]\n"
          ]
        }
      ]
    },
    {
      "cell_type": "code",
      "source": [
        "# For loop\n",
        "\n",
        "list = [1, 2, 3, 4, 5]\n",
        "for num in list:\n",
        "  print(num)"
      ],
      "metadata": {
        "colab": {
          "base_uri": "https://localhost:8080/"
        },
        "id": "Y0QYcLQPyAXJ",
        "outputId": "6ec60d91-fec4-43ad-859f-30d79122e3a4"
      },
      "execution_count": 15,
      "outputs": [
        {
          "output_type": "stream",
          "name": "stdout",
          "text": [
            "1\n",
            "2\n",
            "3\n",
            "4\n",
            "5\n"
          ]
        }
      ]
    },
    {
      "cell_type": "markdown",
      "source": [
        "#Function"
      ],
      "metadata": {
        "id": "VucMEWXayXiS"
      }
    },
    {
      "cell_type": "code",
      "source": [
        "# Function with return\n",
        "\n",
        "def pow(a):\n",
        "  return a**2\n",
        "\n",
        "print(pow(2))\n",
        "power = pow(2)\n",
        "print(power)"
      ],
      "metadata": {
        "colab": {
          "base_uri": "https://localhost:8080/"
        },
        "id": "Wjqgq_reyP2k",
        "outputId": "63f7888a-fb82-4b4b-b381-e34b2c4644ed"
      },
      "execution_count": 18,
      "outputs": [
        {
          "output_type": "stream",
          "name": "stdout",
          "text": [
            "4\n",
            "4\n"
          ]
        }
      ]
    },
    {
      "cell_type": "code",
      "source": [
        "def pow(a):\n",
        "  print(a**2)\n",
        "pow(2)"
      ],
      "metadata": {
        "colab": {
          "base_uri": "https://localhost:8080/"
        },
        "id": "xSjlULWByg50",
        "outputId": "dbc04ead-9843-4053-a7da-3f5ea766a857"
      },
      "execution_count": 20,
      "outputs": [
        {
          "output_type": "stream",
          "name": "stdout",
          "text": [
            "4\n"
          ]
        }
      ]
    },
    {
      "cell_type": "code",
      "source": [],
      "metadata": {
        "id": "Ex4oSLQTy9o4"
      },
      "execution_count": null,
      "outputs": []
    }
  ]
}