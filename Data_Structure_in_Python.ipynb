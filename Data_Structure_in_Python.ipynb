{
  "nbformat": 4,
  "nbformat_minor": 0,
  "metadata": {
    "colab": {
      "provenance": [],
      "authorship_tag": "ABX9TyM5afUo/8hfvw2lvmPM3iVz",
      "include_colab_link": true
    },
    "kernelspec": {
      "name": "python3",
      "display_name": "Python 3"
    },
    "language_info": {
      "name": "python"
    }
  },
  "cells": [
    {
      "cell_type": "markdown",
      "metadata": {
        "id": "view-in-github",
        "colab_type": "text"
      },
      "source": [
        "<a href=\"https://colab.research.google.com/github/shlnvt/shlnvt_myskill_pythonfundamental_portofolios/blob/main/Data_Structure_in_Python.ipynb\" target=\"_parent\"><img src=\"https://colab.research.google.com/assets/colab-badge.svg\" alt=\"Open In Colab\"/></a>"
      ]
    },
    {
      "cell_type": "markdown",
      "source": [
        "#Linked List"
      ],
      "metadata": {
        "id": "XVp7jizPp7RQ"
      }
    },
    {
      "cell_type": "code",
      "execution_count": 1,
      "metadata": {
        "colab": {
          "base_uri": "https://localhost:8080/"
        },
        "id": "Uj778QSyp4IK",
        "outputId": "7630849f-af7f-4b0b-d337-5664ba12b391"
      },
      "outputs": [
        {
          "output_type": "stream",
          "name": "stdout",
          "text": [
            "['first', 'second', 'third']\n",
            "\n",
            "['first', 'second', 'third', 'sixth', 'fourth', 'fifth']\n",
            "\n",
            "['first', 'third', 'sixth', 'fourth', 'fifth']\n",
            "\n"
          ]
        }
      ],
      "source": [
        "linked_list = ['first', 'second', 'third']\n",
        "print(linked_list)\n",
        "\n",
        "print()\n",
        "\n",
        "# Menambahkan Element\n",
        "linked_list.append('fourth')\n",
        "linked_list.append('fifth')\n",
        "linked_list.insert(3, 'sixth')\n",
        "print(linked_list)\n",
        "print()\n",
        "\n",
        "linked_list.remove('second')\n",
        "print(linked_list)\n",
        "print()"
      ]
    },
    {
      "cell_type": "markdown",
      "source": [
        "#Stack"
      ],
      "metadata": {
        "id": "Q3O8Zt6RtK8X"
      }
    },
    {
      "cell_type": "code",
      "source": [
        "stack = ['first', 'second', 'third']\n",
        "print(stack)\n",
        "\n",
        "print()\n",
        "\n",
        "# pushing element\n",
        "stack.append('fourth')\n",
        "stack.append('fifth')\n",
        "print(stack)\n",
        "print()\n",
        "\n",
        "# printing top\n",
        "print(stack[-1])\n",
        "print()\n",
        "\n",
        "# poping element\n",
        "stack.pop()\n",
        "print(stack)"
      ],
      "metadata": {
        "colab": {
          "base_uri": "https://localhost:8080/"
        },
        "id": "jf0gi-z-rySH",
        "outputId": "11ce0f75-2b86-4c08-ce4a-86769e7fe444"
      },
      "execution_count": 3,
      "outputs": [
        {
          "output_type": "stream",
          "name": "stdout",
          "text": [
            "['first', 'second', 'third']\n",
            "\n",
            "['first', 'second', 'third', 'fourth', 'fifth']\n",
            "\n",
            "fifth\n",
            "\n",
            "['first', 'second', 'third', 'fourth']\n"
          ]
        }
      ]
    },
    {
      "cell_type": "markdown",
      "source": [
        "#Queue"
      ],
      "metadata": {
        "id": "h7oDiDd4u6AH"
      }
    },
    {
      "cell_type": "code",
      "source": [
        "queue = ['first', 'second', 'third']\n",
        "print(queue)\n",
        "\n",
        "print()\n",
        "\n",
        "# pushing elements\n",
        "queue.append('fourth')\n",
        "queue.append('fifth')\n",
        "print(queue)\n",
        "print()\n",
        "\n",
        "# printing head\n",
        "print(queue[0])\n",
        "\n",
        "# printing tail\n",
        "n = len(queue)\n",
        "print(queue[-1])\n",
        "print()\n",
        "\n",
        "# poping element\n",
        "queue.remove(queue[0])\n",
        "print(queue)"
      ],
      "metadata": {
        "colab": {
          "base_uri": "https://localhost:8080/"
        },
        "id": "PTXYlxuXtxQT",
        "outputId": "f8e95aef-5026-4152-a019-e7ee3245a416"
      },
      "execution_count": 4,
      "outputs": [
        {
          "output_type": "stream",
          "name": "stdout",
          "text": [
            "['first', 'second', 'third']\n",
            "\n",
            "['first', 'second', 'third', 'fourth', 'fifth']\n",
            "\n",
            "first\n",
            "fifth\n",
            "\n",
            "['second', 'third', 'fourth', 'fifth']\n"
          ]
        }
      ]
    },
    {
      "cell_type": "markdown",
      "source": [
        "#Tree"
      ],
      "metadata": {
        "id": "N5wEEZckwQah"
      }
    },
    {
      "cell_type": "code",
      "source": [
        "class node:\n",
        "  def __init__(self, ele):\n",
        "    self.ele = ele\n",
        "    self.left = None\n",
        "    self.right = None\n",
        "\n",
        "\n",
        "def preorder(self):\n",
        "  if self:\n",
        "    print(self.ele)\n",
        "    preorder(self.left)\n",
        "    preorder(self.right)\n",
        "\n",
        "\n",
        "n = node('first')\n",
        "n.left = node('second')\n",
        "n.right = node('third')\n",
        "preorder(n)"
      ],
      "metadata": {
        "colab": {
          "base_uri": "https://localhost:8080/"
        },
        "id": "qKE03Hyevinh",
        "outputId": "af15f117-e7c7-4708-c586-e2cb6482a2cf"
      },
      "execution_count": 5,
      "outputs": [
        {
          "output_type": "stream",
          "name": "stdout",
          "text": [
            "first\n",
            "second\n",
            "third\n"
          ]
        }
      ]
    },
    {
      "cell_type": "markdown",
      "source": [
        "#Graph"
      ],
      "metadata": {
        "id": "3P4M-7vLxmPt"
      }
    },
    {
      "cell_type": "code",
      "source": [
        "class adjnode:\n",
        "  def __init__(self, val):\n",
        "    self.val = val\n",
        "    self.next = None\n",
        "\n",
        "\n",
        "class graph:\n",
        "  def __init__(self, vertices):\n",
        "    self.v = vertices\n",
        "    self.ele = [None]*self.v\n",
        "\n",
        "  def edge(self, src, dest):\n",
        "    node = adjnode(dest)\n",
        "    node.next = self.ele[src]\n",
        "    self.ele[src] = node\n",
        "\n",
        "    node = adjnode(src)\n",
        "    node.next = self.ele[dest]\n",
        "    self.ele[dest] = node\n",
        "\n",
        "  def __repr__(self):\n",
        "    for i in range(self.v):\n",
        "      print(\"Adjacency list of vertex {}\\n head\", format(i), end=\"\")\n",
        "      temp = self.ele[i]\n",
        "      while temp:\n",
        "        print(\" -> {}\", format(temp.val), end=\"\")\n",
        "        temp = temp.next\n",
        "\n",
        "g = graph(4)\n",
        "g.edge(0, 2)\n",
        "g.edge(1, 3)\n",
        "g.edge(3, 2)\n",
        "g.edge(0, 3)\n",
        "g.__repr__()"
      ],
      "metadata": {
        "colab": {
          "base_uri": "https://localhost:8080/"
        },
        "id": "3pbXuHZ_w3TB",
        "outputId": "82bba74a-37db-43bd-84a7-659d5901b5e7"
      },
      "execution_count": 7,
      "outputs": [
        {
          "output_type": "stream",
          "name": "stdout",
          "text": [
            "Adjacency list of vertex {}\n",
            " head 0 -> {} 3 -> {} 2Adjacency list of vertex {}\n",
            " head 1 -> {} 3Adjacency list of vertex {}\n",
            " head 2 -> {} 3 -> {} 0Adjacency list of vertex {}\n",
            " head 3 -> {} 0 -> {} 2 -> {} 1"
          ]
        }
      ]
    },
    {
      "cell_type": "markdown",
      "source": [
        "#Hashmaps"
      ],
      "metadata": {
        "id": "iirICoODz-rO"
      }
    },
    {
      "cell_type": "code",
      "source": [
        "def printdict(d):\n",
        "  for key in d:\n",
        "    print(key, \"->\", d[key])\n",
        "\n",
        "\n",
        "hashmaps = {0: 'first', 1: 'second', 2:'third'}\n",
        "printdict(hashmaps)\n",
        "print()\n",
        "\n",
        "hashmaps[3] = 'fourth'\n",
        "printdict(hashmaps)\n",
        "print()\n",
        "\n",
        "hashmaps.popitem()\n",
        "printdict(hashmaps)"
      ],
      "metadata": {
        "colab": {
          "base_uri": "https://localhost:8080/"
        },
        "id": "5OqZLTJWz8f_",
        "outputId": "f8105e47-551a-4735-d13d-02df6c0195b0"
      },
      "execution_count": 9,
      "outputs": [
        {
          "output_type": "stream",
          "name": "stdout",
          "text": [
            "0 -> first\n",
            "1 -> second\n",
            "2 -> third\n",
            "\n",
            "0 -> first\n",
            "1 -> second\n",
            "2 -> third\n",
            "3 -> fourth\n",
            "\n",
            "0 -> first\n",
            "1 -> second\n",
            "2 -> third\n"
          ]
        }
      ]
    },
    {
      "cell_type": "code",
      "source": [],
      "metadata": {
        "id": "VaSH8EBs1wbP"
      },
      "execution_count": null,
      "outputs": []
    }
  ]
}