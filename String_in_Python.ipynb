{
  "nbformat": 4,
  "nbformat_minor": 0,
  "metadata": {
    "colab": {
      "provenance": [],
      "authorship_tag": "ABX9TyM0rIsln6VtnezwtAgzTz6K",
      "include_colab_link": true
    },
    "kernelspec": {
      "name": "python3",
      "display_name": "Python 3"
    },
    "language_info": {
      "name": "python"
    }
  },
  "cells": [
    {
      "cell_type": "markdown",
      "metadata": {
        "id": "view-in-github",
        "colab_type": "text"
      },
      "source": [
        "<a href=\"https://colab.research.google.com/github/shlnvt/shlnvt_myskill_pythonfundamental_portofolios/blob/main/String_in_Python.ipynb\" target=\"_parent\"><img src=\"https://colab.research.google.com/assets/colab-badge.svg\" alt=\"Open In Colab\"/></a>"
      ]
    },
    {
      "cell_type": "markdown",
      "source": [
        "#What is String?"
      ],
      "metadata": {
        "id": "O0nkIQRrFlNc"
      }
    },
    {
      "cell_type": "code",
      "execution_count": 1,
      "metadata": {
        "colab": {
          "base_uri": "https://localhost:8080/",
          "height": 35
        },
        "id": "bXa4TgFaFjks",
        "outputId": "307640a4-a32c-45d6-dabb-4dc5cc5f3d37"
      },
      "outputs": [
        {
          "output_type": "execute_result",
          "data": {
            "text/plain": [
              "'myskill'"
            ],
            "application/vnd.google.colaboratory.intrinsic+json": {
              "type": "string"
            }
          },
          "metadata": {},
          "execution_count": 1
        }
      ],
      "source": [
        "\"myskill\" or 'myskill'"
      ]
    },
    {
      "cell_type": "code",
      "source": [
        "print(\"myskill providing course\"[0])"
      ],
      "metadata": {
        "colab": {
          "base_uri": "https://localhost:8080/"
        },
        "id": "d-SrE1rCFsYU",
        "outputId": "9829f1bf-904c-41a0-ae06-9ac0620f6e60"
      },
      "execution_count": 2,
      "outputs": [
        {
          "output_type": "stream",
          "name": "stdout",
          "text": [
            "m\n"
          ]
        }
      ]
    },
    {
      "cell_type": "markdown",
      "source": [
        "#Create String"
      ],
      "metadata": {
        "id": "HxMRuODcF388"
      }
    },
    {
      "cell_type": "code",
      "source": [
        "# creating a string\n",
        "# with single quotes\n",
        "string1 = 'Welcome to myskill'\n",
        "print(\"String with the use of single quotes: \")\n",
        "print(string1)\n",
        "\n",
        "# creating a string\n",
        "# with double quotes\n",
        "string1 = \"I'm Shen\"\n",
        "print(\"\\nString with the use of double quotes: \")\n",
        "print(string1)\n",
        "\n",
        "# creating a string\n",
        "# with triple quotes\n",
        "string1 = '''I'm myskill student and I develop \"skill\"'''\n",
        "print(\"\\nString with the use of triple quotes: \")\n",
        "print(string1)\n",
        "\n",
        "# creating string with triple\n",
        "# quotes allows multiple lines\n",
        "string1 = '''Myskill\n",
        "              for\n",
        "              life'''\n",
        "print(\"\\nCreating a multiple string: \")\n",
        "print(string1)"
      ],
      "metadata": {
        "colab": {
          "base_uri": "https://localhost:8080/"
        },
        "id": "boYS092sF2Al",
        "outputId": "510f2322-0bcb-4c9c-bea7-97518153c108"
      },
      "execution_count": 7,
      "outputs": [
        {
          "output_type": "stream",
          "name": "stdout",
          "text": [
            "String with the use of single quotes: \n",
            "Welcome to myskill\n",
            "\n",
            "String with the use of double quotes: \n",
            "I'm Shen\n",
            "\n",
            "String with the use of triple quotes: \n",
            "I'm myskill student and I develop \"skill\"\n",
            "\n",
            "Creating a multiple string: \n",
            "Myskill\n",
            "              for\n",
            "              life\n"
          ]
        }
      ]
    },
    {
      "cell_type": "markdown",
      "source": [
        "#Access character in python string"
      ],
      "metadata": {
        "id": "f2EEsRwWJCNL"
      }
    },
    {
      "cell_type": "code",
      "source": [
        "string1 = 'MySkill'\n",
        "print(\"Initial string: \")\n",
        "print(string1)\n",
        "\n",
        "# printing first character\n",
        "print(\"\\nFirst character of string in: \")\n",
        "print(string1[0])\n",
        "\n",
        "# printing last character\n",
        "print(\"\\nLast character of string in: \")\n",
        "print(string1[-1])"
      ],
      "metadata": {
        "colab": {
          "base_uri": "https://localhost:8080/"
        },
        "id": "_lioRsvoGg9l",
        "outputId": "a17eba7f-52ee-4a91-9ef9-d3e3018c5384"
      },
      "execution_count": 11,
      "outputs": [
        {
          "output_type": "stream",
          "name": "stdout",
          "text": [
            "Initial string: \n",
            "MySkill\n",
            "\n",
            "First character of string in: \n",
            "M\n",
            "\n",
            "Last character of string in: \n",
            "l\n"
          ]
        }
      ]
    },
    {
      "cell_type": "markdown",
      "source": [
        "#Reverse String"
      ],
      "metadata": {
        "id": "4soRWoeWL-LC"
      }
    },
    {
      "cell_type": "code",
      "source": [
        "#program to reverse a string\n",
        "msk = \"myskill\"\n",
        "print(msk[::-1])"
      ],
      "metadata": {
        "colab": {
          "base_uri": "https://localhost:8080/"
        },
        "id": "3c7ZdQg4JQj7",
        "outputId": "bcfe4c79-f256-4330-ddd6-ee102778731b"
      },
      "execution_count": 14,
      "outputs": [
        {
          "output_type": "stream",
          "name": "stdout",
          "text": [
            "lliksym\n"
          ]
        }
      ]
    },
    {
      "cell_type": "code",
      "source": [
        "msk = \"myskill\"\n",
        "\n",
        "# reverse the string using reversed and join function\n",
        "msk = \"\".join(reversed(msk))\n",
        "\n",
        "print(msk)"
      ],
      "metadata": {
        "colab": {
          "base_uri": "https://localhost:8080/"
        },
        "id": "md5XFCLjMX0O",
        "outputId": "9778f68e-2e35-49f3-bdd4-c11df260ec04"
      },
      "execution_count": 15,
      "outputs": [
        {
          "output_type": "stream",
          "name": "stdout",
          "text": [
            "lliksym\n"
          ]
        }
      ]
    },
    {
      "cell_type": "markdown",
      "source": [
        "#String Slicing"
      ],
      "metadata": {
        "id": "Ds-UeqXCM2X7"
      }
    },
    {
      "cell_type": "code",
      "source": [
        "# creating a string\n",
        "string1 = \"MySkill\"\n",
        "print(\"Initial String: \")\n",
        "print(string1)\n",
        "\n",
        "#printing 3rd to 12th character\n",
        "print(\"\\nString character from 3-12: \")\n",
        "print(string1[3:7])\n",
        "\n",
        "#printing character between\n",
        "# 3rd and 2nd last character\n",
        "print(\"\\nSlicing character between \" +\n",
        "      \"3rd and 2nd last character: \")\n",
        "print(string1[3:-1])"
      ],
      "metadata": {
        "colab": {
          "base_uri": "https://localhost:8080/"
        },
        "id": "MjDnqbQEMqB1",
        "outputId": "487b6c34-dc67-4844-ff3c-a4861266916f"
      },
      "execution_count": 19,
      "outputs": [
        {
          "output_type": "stream",
          "name": "stdout",
          "text": [
            "Initial String: \n",
            "MySkill\n",
            "\n",
            "String character from 3-12: \n",
            "kill\n",
            "\n",
            "Slicing character between 3rd and 2nd last character: \n",
            "kil\n"
          ]
        }
      ]
    },
    {
      "cell_type": "markdown",
      "source": [
        "#Delete and Update String"
      ],
      "metadata": {
        "id": "ZUFDVhF3NwIl"
      }
    },
    {
      "cell_type": "markdown",
      "source": [
        "##Update character"
      ],
      "metadata": {
        "id": "iA-UXqM8N12t"
      }
    },
    {
      "cell_type": "code",
      "source": [
        "# python program to update\n",
        "# character of a string\n",
        "\n",
        "string1 = \"Hello, I'm MySkill student\"\n",
        "print(\"Initial string: \")\n",
        "print(string1)\n",
        "\n",
        "# updating a character of the string\n",
        "## as pythin strings are immutable, they don't support item updation directly\n",
        "### there are following two ways\n",
        "#1\n",
        "list1 = list(string1)\n",
        "list1[2] = 'p'\n",
        "string2 = ''.join(list1)\n",
        "print(\"\\nUpdating character at 2nd index: \")\n",
        "print(string2)\n",
        "\n",
        "#2\n",
        "string3 = string1[0:2] + 'k' + string1[3:]\n",
        "print(string3)"
      ],
      "metadata": {
        "colab": {
          "base_uri": "https://localhost:8080/"
        },
        "id": "c-k8sGU0NAkQ",
        "outputId": "98b334f7-228f-4bce-ac35-ea15caf8b8d0"
      },
      "execution_count": 23,
      "outputs": [
        {
          "output_type": "stream",
          "name": "stdout",
          "text": [
            "Initial string: \n",
            "Hello, I'm MySkill student\n",
            "\n",
            "Updating character at 2nd index: \n",
            "Heplo, I'm MySkill student\n",
            "Heklo, I'm MySkill student\n"
          ]
        }
      ]
    },
    {
      "cell_type": "markdown",
      "source": [
        "##Update entire string"
      ],
      "metadata": {
        "id": "oWqlbYsZPUpq"
      }
    },
    {
      "cell_type": "code",
      "source": [
        "string1 = \"Hello, I'm Shen\"\n",
        "print(\"Initial string: \")\n",
        "print(string1)\n",
        "\n",
        "# updating a string\n",
        "string1 = \"Welcome to myskill\"\n",
        "print(\"\\nUpdated string: \")\n",
        "print(string1)"
      ],
      "metadata": {
        "colab": {
          "base_uri": "https://localhost:8080/"
        },
        "id": "M0z8p6lVOGjG",
        "outputId": "db2d2cd4-558c-4391-9f3d-3dcd0d153afe"
      },
      "execution_count": 25,
      "outputs": [
        {
          "output_type": "stream",
          "name": "stdout",
          "text": [
            "Initial string: \n",
            "Hello, I'm Shen\n",
            "\n",
            "Updated string: \n",
            "Welcome to myskill\n"
          ]
        }
      ]
    },
    {
      "cell_type": "markdown",
      "source": [
        "##Delete character"
      ],
      "metadata": {
        "id": "UponbunvQFhk"
      }
    },
    {
      "cell_type": "code",
      "source": [
        "string1 = \"Hello, welcome to myskill\"\n",
        "print(\"Initial string: \")\n",
        "print(string1)\n",
        "\n",
        "# deleting a character\n",
        "# of the string\n",
        "string2 = string1[0:2] + string1[3:]\n",
        "print(\"\\nDeleting character at 2nd index: \")\n",
        "print(string2)"
      ],
      "metadata": {
        "colab": {
          "base_uri": "https://localhost:8080/"
        },
        "id": "XIjPDHN5PwVY",
        "outputId": "12180ffd-4ddb-4099-c966-d12788ab444e"
      },
      "execution_count": 27,
      "outputs": [
        {
          "output_type": "stream",
          "name": "stdout",
          "text": [
            "Initial string: \n",
            "Hello, welcome to myskill\n",
            "\n",
            "Deleting character at 2nd index: \n",
            "Helo, welcome to myskill\n"
          ]
        }
      ]
    },
    {
      "cell_type": "markdown",
      "source": [
        "##Delete entire string"
      ],
      "metadata": {
        "id": "GuHdhT5lQmia"
      }
    },
    {
      "cell_type": "code",
      "source": [
        "string1 = \"Welcome to myskill\"\n",
        "print(\"Initial string: \")\n",
        "print(string1)\n",
        "\n",
        "# deleting a string\n",
        "# with the use of del\n",
        "del string1print(\"\\nDeleting entire string: \")\n",
        "print(string1)"
      ],
      "metadata": {
        "colab": {
          "base_uri": "https://localhost:8080/",
          "height": 143
        },
        "id": "vs1UtUddQOJl",
        "outputId": "06ed7a41-4747-4827-e788-2c1483ebe080"
      },
      "execution_count": 29,
      "outputs": [
        {
          "output_type": "error",
          "ename": "SyntaxError",
          "evalue": "ignored",
          "traceback": [
            "\u001b[0;36m  File \u001b[0;32m\"<ipython-input-29-82b0256cd563>\"\u001b[0;36m, line \u001b[0;32m7\u001b[0m\n\u001b[0;31m    del string1print(\"\\nDeleting entire string: \")\u001b[0m\n\u001b[0m        ^\u001b[0m\n\u001b[0;31mSyntaxError\u001b[0m\u001b[0;31m:\u001b[0m cannot delete function call\n"
          ]
        }
      ]
    },
    {
      "cell_type": "markdown",
      "source": [
        "#Escape sequence in python"
      ],
      "metadata": {
        "id": "nMIFHanWSIGr"
      }
    },
    {
      "cell_type": "code",
      "source": [
        "# initial string\n",
        "string1 = '''I'm \"smart\"'''\n",
        "print(\"Initial string with use of triple quotes: \")\n",
        "print(string1)\n",
        "\n",
        "# escaping single quote\n",
        "string1 = 'I\\'m \"smart\"'\n",
        "print(\"\\nEscaping single quote: \")\n",
        "print(string1)\n",
        "\n",
        "# escaping double quote\n",
        "string1 = \"I'm \\\"smart\\\"\"\n",
        "print(\"\\nEscaping double quotes: \")\n",
        "print(string1)\n",
        "\n",
        "# printing paths with the\n",
        "# use of escape sequence\n",
        "string1 = \"C:\\\\Python\\\\MySkill\\\\\"\n",
        "print(\"\\nEscaping backslashes: \")\n",
        "print(string1)\n",
        "\n",
        "# printing paths with the\n",
        "# use of tab\n",
        "string1 = \"Hi\\tSmartGuy\"\n",
        "print(\"\\nTab: \")\n",
        "print(string1)\n",
        "\n",
        "# printing paths with the\n",
        "# use of new line\n",
        "string1 = \"Python\\nMySkill\"\n",
        "print(\"\\nNew line: \")\n",
        "print(string1)"
      ],
      "metadata": {
        "colab": {
          "base_uri": "https://localhost:8080/"
        },
        "id": "3QU9SrFTQxrt",
        "outputId": "c74005b3-1521-4cbd-fbf0-a9d549f4a301"
      },
      "execution_count": 37,
      "outputs": [
        {
          "output_type": "stream",
          "name": "stdout",
          "text": [
            "Initial string with use of triple quotes: \n",
            "I'm \"smart\"\n",
            "\n",
            "Escaping single quote: \n",
            "I'm \"smart\"\n",
            "\n",
            "Escaping double quotes: \n",
            "I'm \"smart\"\n",
            "\n",
            "Escaping backslashes: \n",
            "C:\\Python\\MySkill\\\n",
            "\n",
            "Tab: \n",
            "Hi\tSmartGuy\n",
            "\n",
            "New line: \n",
            "Python\n",
            "MySkill\n"
          ]
        }
      ]
    },
    {
      "cell_type": "markdown",
      "source": [
        "#Formatting in string"
      ],
      "metadata": {
        "id": "lMRb8fnxVcLh"
      }
    },
    {
      "cell_type": "code",
      "source": [
        "# default order\n",
        "string1 = \"{} {} {}\".format('MySkill', 'For', 'Learning')\n",
        "print(\"Print string in default order: \")\n",
        "print(string1)\n",
        "\n",
        "# positional formatting\n",
        "string1 = \"{1} {0} {2}\".format('MySkill', 'For', 'Learning')\n",
        "print(\"\\nPrint string in positional order: \")\n",
        "print(string1)\n",
        "\n",
        "# keyword formatting\n",
        "string1 = \"{l} {f} {g}\".format(g='MySkill', f='For', l='Learning')\n",
        "print(\"\\nPrint string in order of keywords: \")\n",
        "print(string1)"
      ],
      "metadata": {
        "colab": {
          "base_uri": "https://localhost:8080/"
        },
        "id": "Wo5r4GcmSaDQ",
        "outputId": "17d6bd14-f3d1-4cc0-ed4b-e1677ad03bb7"
      },
      "execution_count": 40,
      "outputs": [
        {
          "output_type": "stream",
          "name": "stdout",
          "text": [
            "Print string in default order: \n",
            "MySkill For Learning\n",
            "\n",
            "Print string in positional order: \n",
            "For MySkill Learning\n",
            "\n",
            "Print string in order of keywords: \n",
            "Learning For MySkill\n"
          ]
        }
      ]
    },
    {
      "cell_type": "code",
      "source": [
        "# formatting of integers\n",
        "string1 = \"{0:b}\".format(16)\n",
        "print(\"\\nBinary representation of 16 is \")\n",
        "print(string1)\n",
        "\n",
        "# formatting of floats\n",
        "string1 = \"{0:e}\".format(165.6458)\n",
        "print(\"\\nExponent representation of 165.6458 is \")\n",
        "print(string1)\n",
        "\n",
        "# rounding off integers\n",
        "string1 = \"{0:.2f}\".format(1/6)\n",
        "print(\"\\none-sixth is: \")\n",
        "print(string1)"
      ],
      "metadata": {
        "colab": {
          "base_uri": "https://localhost:8080/"
        },
        "id": "coQrq8jSWhj4",
        "outputId": "c1e46a90-0f92-4de3-ed46-febd1adf5467"
      },
      "execution_count": 43,
      "outputs": [
        {
          "output_type": "stream",
          "name": "stdout",
          "text": [
            "\n",
            "Binary representation of 16 is \n",
            "10000\n",
            "\n",
            "Exponent representation of 165.6458 is \n",
            "1.656458e+02\n",
            "\n",
            "one-sixth is: \n",
            "0.17\n"
          ]
        }
      ]
    },
    {
      "cell_type": "code",
      "source": [
        "# string aligment\n",
        "string1 = \"|{:<10}|{:^10}|{:>10}\".format('MySkill', 'For', 'Learning')\n",
        "print(\"\\nLeft, center and right aligment with formatting: \")\n",
        "print(string1)\n",
        "\n",
        "# to demonstrate aligning of spaces\n",
        "string1 = \"\\n{0:^16} was founded in {1:<4}\".format(\"MySkillForLearning\",\n",
        "                                                   2021)\n",
        "print(string1)"
      ],
      "metadata": {
        "colab": {
          "base_uri": "https://localhost:8080/"
        },
        "id": "HTxSJmKnXeXp",
        "outputId": "b8eb2086-a46d-4544-d57e-3faa00b25a1e"
      },
      "execution_count": 46,
      "outputs": [
        {
          "output_type": "stream",
          "name": "stdout",
          "text": [
            "\n",
            "Left, center and right aligment with formatting: \n",
            "|MySkill   |   For    |  Learning\n",
            "\n",
            "MySkillForLearning was founded in 2021\n"
          ]
        }
      ]
    },
    {
      "cell_type": "code",
      "source": [
        "integer1 = 12.3456789\n",
        "print(\"Formatting in 3.2f format: \")\n",
        "print('The vale of integer1 is %3.2f' % integer1)\n",
        "print(\"\\nFormatting in 3.4f format: \")\n",
        "print('The value of integer1 in %3.4f' % integer1)"
      ],
      "metadata": {
        "colab": {
          "base_uri": "https://localhost:8080/"
        },
        "id": "cZbqdCBoYPWr",
        "outputId": "5f621e2d-14f6-458b-cb6a-3751cd5c7e06"
      },
      "execution_count": 47,
      "outputs": [
        {
          "output_type": "stream",
          "name": "stdout",
          "text": [
            "Formatting in 3.2f format: \n",
            "The vale of integer1 is 12.35\n",
            "\n",
            "Formatting in 3.4f format: \n",
            "The value of integer1 in 12.3457\n"
          ]
        }
      ]
    },
    {
      "cell_type": "code",
      "source": [],
      "metadata": {
        "id": "j9L9xo3kZmZ2"
      },
      "execution_count": null,
      "outputs": []
    }
  ]
}