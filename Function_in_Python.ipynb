{
  "nbformat": 4,
  "nbformat_minor": 0,
  "metadata": {
    "colab": {
      "provenance": [],
      "authorship_tag": "ABX9TyMdYM4RWJBn0EvgHey/Eagp",
      "include_colab_link": true
    },
    "kernelspec": {
      "name": "python3",
      "display_name": "Python 3"
    },
    "language_info": {
      "name": "python"
    }
  },
  "cells": [
    {
      "cell_type": "markdown",
      "metadata": {
        "id": "view-in-github",
        "colab_type": "text"
      },
      "source": [
        "<a href=\"https://colab.research.google.com/github/shlnvt/shlnvt_myskill_pythonfundamental_portofolios/blob/main/Function_in_Python.ipynb\" target=\"_parent\"><img src=\"https://colab.research.google.com/assets/colab-badge.svg\" alt=\"Open In Colab\"/></a>"
      ]
    },
    {
      "cell_type": "markdown",
      "source": [
        "#Python Function"
      ],
      "metadata": {
        "id": "dcMbcS_IlQv2"
      }
    },
    {
      "cell_type": "code",
      "execution_count": null,
      "metadata": {
        "id": "NxreyYDElLgy"
      },
      "outputs": [],
      "source": [
        "# function definition\n",
        "def greet(name):\n",
        "  \"\"\"\n",
        "  Fungsi ini menyapa nama\n",
        "  orang yang masuk sebagai\n",
        "  sebuah parameter\n",
        "  \"\"\"\n",
        "  print(\"Hello, \" + name + \". Good morning! Welcome to myskill\")"
      ]
    },
    {
      "cell_type": "code",
      "source": [
        "print(greet.__doc__)"
      ],
      "metadata": {
        "colab": {
          "base_uri": "https://localhost:8080/"
        },
        "id": "aSicPJ0fltxp",
        "outputId": "a5d6012e-8f57-4ef8-88b1-32e7e9ba36aa"
      },
      "execution_count": null,
      "outputs": [
        {
          "output_type": "stream",
          "name": "stdout",
          "text": [
            "\n",
            "  Fungsi ini menyapa nama\n",
            "  orang yang masuk sebagai\n",
            "  sebuah parameter\n",
            "  \n"
          ]
        }
      ]
    },
    {
      "cell_type": "code",
      "source": [
        "greet('Shen')"
      ],
      "metadata": {
        "colab": {
          "base_uri": "https://localhost:8080/"
        },
        "id": "ke8wGHJ0ly_I",
        "outputId": "79512948-3bc6-49aa-b4ea-7a253287b001"
      },
      "execution_count": null,
      "outputs": [
        {
          "output_type": "stream",
          "name": "stdout",
          "text": [
            "Hello, Shen. Good morning! Welcome to myskill\n"
          ]
        }
      ]
    },
    {
      "cell_type": "markdown",
      "source": [
        "#Function Arguments"
      ],
      "metadata": {
        "id": "ld7jiau3l7ur"
      }
    },
    {
      "cell_type": "code",
      "source": [
        "def greet(name, msg):\n",
        "  \"\"\"Fungsi ini menyapa\n",
        "  orang dengan pesan yang diberikan\"\"\"\n",
        "  print(\"Hello\", name + ', ' + msg)\n",
        "\n",
        "greet(\"Shen\", \"Good morning!\")"
      ],
      "metadata": {
        "colab": {
          "base_uri": "https://localhost:8080/"
        },
        "id": "ssbFFnOUl4GH",
        "outputId": "7fb4cc47-ddc3-4b63-d867-6441be190f4e"
      },
      "execution_count": null,
      "outputs": [
        {
          "output_type": "stream",
          "name": "stdout",
          "text": [
            "Hello Shen, Good morning!\n"
          ]
        }
      ]
    },
    {
      "cell_type": "markdown",
      "source": [
        "##Python Default Arguments"
      ],
      "metadata": {
        "id": "nI5fjyaGtNVk"
      }
    },
    {
      "cell_type": "code",
      "source": [
        "def greet(name, msg = \"Good morning!\"):\n",
        "  \"\"\"\n",
        "  Fungsi ini menyapa\n",
        "  orang dengan\n",
        "  pesan yang disediakan.\n",
        "\n",
        "  Jika pesan tidak diberikan,\n",
        "  default adalah \"Good\n",
        "  morning!\"\n",
        "  \"\"\"\n",
        "\n",
        "  print(\"Hello\", name + ', ' + msg)\n",
        "\n",
        "greet(\"Hen\")\n",
        "greet(\"Shen\", \"Apa kabar\")"
      ],
      "metadata": {
        "colab": {
          "base_uri": "https://localhost:8080/"
        },
        "id": "C8i7AL6ktB0-",
        "outputId": "98c773ae-3bf4-4782-9afc-ac3a28c35cf7"
      },
      "execution_count": null,
      "outputs": [
        {
          "output_type": "stream",
          "name": "stdout",
          "text": [
            "Hello Hen, Good morning!\n",
            "Hello Shen, Apa kabar\n"
          ]
        }
      ]
    },
    {
      "cell_type": "markdown",
      "source": [
        "##Python Keyword Arguments"
      ],
      "metadata": {
        "id": "HD6TgLYIwPMC"
      }
    },
    {
      "cell_type": "code",
      "source": [
        "# 2 keyword arguments\n",
        "greet(name = \"Shen\", msg = \"How do you do?\")\n",
        "\n",
        "# 2 keyword arguments (out of order)\n",
        "greet(msg = \"How do you do?\", name = \"Shen\")\n",
        "\n",
        "#1 positional, 1 keyword argument\n",
        "greet(\"Shen\", msg = \"How do you do?\")"
      ],
      "metadata": {
        "colab": {
          "base_uri": "https://localhost:8080/"
        },
        "id": "0cw3YGIJwGUj",
        "outputId": "d6976ff6-98ec-4636-cfc8-fc71b522b060"
      },
      "execution_count": null,
      "outputs": [
        {
          "output_type": "stream",
          "name": "stdout",
          "text": [
            "Hello Shen, How do you do?\n",
            "Hello Shen, How do you do?\n",
            "Hello Shen, How do you do?\n"
          ]
        }
      ]
    },
    {
      "cell_type": "markdown",
      "source": [
        "##Python Arbitary Arguments"
      ],
      "metadata": {
        "id": "6gEmkVA2yuPC"
      }
    },
    {
      "cell_type": "code",
      "source": [
        "def greet(*names):\n",
        "  \"\"\"Fungsi ini menyapa semua\n",
        "  orang dalam nama tuple.\"\"\"\n",
        "\n",
        "  # names is a tuple with arguments\n",
        "  for name in names:\n",
        "    print(\"Hello\", name)\n",
        "\n",
        "\n",
        "greet(\"A\", \"B\", \"C\", \"D\")"
      ],
      "metadata": {
        "colab": {
          "base_uri": "https://localhost:8080/"
        },
        "id": "n4VzpJcIyLP2",
        "outputId": "e03e6e07-e262-4a28-f3c3-bf610ae631b9"
      },
      "execution_count": null,
      "outputs": [
        {
          "output_type": "stream",
          "name": "stdout",
          "text": [
            "Hello A\n",
            "Hello B\n",
            "Hello C\n",
            "Hello D\n"
          ]
        }
      ]
    },
    {
      "cell_type": "markdown",
      "source": [
        "#Python Recursion"
      ],
      "metadata": {
        "id": "ZzFpZ2LU02nO"
      }
    },
    {
      "cell_type": "code",
      "source": [
        "def factorial(x):\n",
        "  \"\"\"Ini adalah fungsi rekursif\n",
        "  untuk menemukan faktorial dari bilangan bulat\"\"\"\n",
        "\n",
        "  if x == 1:\n",
        "    return 1\n",
        "  else:\n",
        "    return (x * factorial(x-1))\n",
        "\n",
        "num = 3\n",
        "print(\"Nilai factorial dari\", num, \"adalah\", factorial(num))"
      ],
      "metadata": {
        "colab": {
          "base_uri": "https://localhost:8080/"
        },
        "id": "udBv7Flj0l2q",
        "outputId": "d12d8ad4-8dbf-47da-b886-6cf75a9a201c"
      },
      "execution_count": null,
      "outputs": [
        {
          "output_type": "stream",
          "name": "stdout",
          "text": [
            "Nilai factorial dari 3 adalah 6\n"
          ]
        }
      ]
    },
    {
      "cell_type": "markdown",
      "source": [
        "#Anonymous Function"
      ],
      "metadata": {
        "id": "_Y0Ny8ea5z80"
      }
    },
    {
      "cell_type": "code",
      "source": [
        "# Program to show the use of lambda function\n",
        "double = lambda x: x * 2\n",
        "\n",
        "print(double(5))"
      ],
      "metadata": {
        "colab": {
          "base_uri": "https://localhost:8080/"
        },
        "id": "3gw4Iq_r5dWd",
        "outputId": "8cd03040-2ec1-4511-8539-60581dacf38f"
      },
      "execution_count": null,
      "outputs": [
        {
          "output_type": "stream",
          "name": "stdout",
          "text": [
            "10\n"
          ]
        }
      ]
    },
    {
      "cell_type": "code",
      "source": [
        "# Program to filter out only the even items from a list\n",
        "my_list = (1, 5, 4, 6, 8, 11, 3, 12)\n",
        "\n",
        "new_list = list(filter(lambda x: (x%2 == 0), my_list))\n",
        "\n",
        "print(new_list)"
      ],
      "metadata": {
        "colab": {
          "base_uri": "https://localhost:8080/"
        },
        "id": "6D0in3NW7KzT",
        "outputId": "a3699174-061a-4726-96bc-beb8ecb2c10b"
      },
      "execution_count": null,
      "outputs": [
        {
          "output_type": "stream",
          "name": "stdout",
          "text": [
            "[4, 6, 8, 12]\n"
          ]
        }
      ]
    },
    {
      "cell_type": "code",
      "source": [
        "# Program to double each item in a list using map()\n",
        "\n",
        "my_list = [1, 5, 4, 6, 8, 11, 3, 12]\n",
        "\n",
        "new_list = list(map(lambda x: x * 2, my_list))\n",
        "\n",
        "print(new_list)"
      ],
      "metadata": {
        "colab": {
          "base_uri": "https://localhost:8080/"
        },
        "id": "YZNMHknd8YMp",
        "outputId": "01b1b5fc-8856-4a7c-9185-9b44a0c95914"
      },
      "execution_count": null,
      "outputs": [
        {
          "output_type": "stream",
          "name": "stdout",
          "text": [
            "[2, 10, 8, 12, 16, 22, 6, 24]\n"
          ]
        }
      ]
    },
    {
      "cell_type": "markdown",
      "source": [
        "#Global, Local, and Non-Local Variable"
      ],
      "metadata": {
        "id": "AYRqdgH-9MIr"
      }
    },
    {
      "cell_type": "code",
      "source": [
        "x = \"global\"\n",
        "\n",
        "def foo():\n",
        "  print(\"x dalam:\", x)\n",
        "\n",
        "foo()\n",
        "print(\"x luar:\", x)"
      ],
      "metadata": {
        "colab": {
          "base_uri": "https://localhost:8080/"
        },
        "id": "HsPhAqnT9KOk",
        "outputId": "5a647e0d-b2fa-4e11-8c6f-4b8b9f7ba5b4"
      },
      "execution_count": null,
      "outputs": [
        {
          "output_type": "stream",
          "name": "stdout",
          "text": [
            "x dalam: global\n",
            "x luar: global\n"
          ]
        }
      ]
    },
    {
      "cell_type": "code",
      "source": [
        "x = \"global\"\n",
        "\n",
        "def foo():\n",
        "  global x\n",
        "  x = x * 2\n",
        "  print(x)\n",
        "\n",
        "foo()"
      ],
      "metadata": {
        "colab": {
          "base_uri": "https://localhost:8080/"
        },
        "id": "wDetNSR-_eTN",
        "outputId": "6d1b115f-d2b9-48e9-f2d9-587f95830d1c"
      },
      "execution_count": null,
      "outputs": [
        {
          "output_type": "stream",
          "name": "stdout",
          "text": [
            "globalglobal\n"
          ]
        }
      ]
    },
    {
      "cell_type": "code",
      "source": [
        "x = \"global\"\n",
        "\n",
        "def foo():\n",
        "  global x\n",
        "  y = \"local\"\n",
        "  x = x * 2\n",
        "  print(x)\n",
        "  print(y)\n",
        "\n",
        "foo()"
      ],
      "metadata": {
        "colab": {
          "base_uri": "https://localhost:8080/"
        },
        "id": "LIN9IWhkA3k8",
        "outputId": "e695ca30-44f0-45eb-d186-5aa7f4227b31"
      },
      "execution_count": null,
      "outputs": [
        {
          "output_type": "stream",
          "name": "stdout",
          "text": [
            "globalglobal\n",
            "local\n"
          ]
        }
      ]
    },
    {
      "cell_type": "markdown",
      "source": [
        "##Non-Local Variable"
      ],
      "metadata": {
        "id": "BVy2tzvGe6_i"
      }
    },
    {
      "cell_type": "code",
      "source": [
        "def outer():\n",
        "  x = \"local\"\n",
        "\n",
        "  def inner():\n",
        "    nonlocal x\n",
        "    x = \"nonlocal\"\n",
        "    print(\"inner:\", x)\n",
        "\n",
        "  inner()\n",
        "  print(\"outer:\", x)\n",
        "\n",
        "outer()"
      ],
      "metadata": {
        "id": "df51zumlCgiv",
        "colab": {
          "base_uri": "https://localhost:8080/"
        },
        "outputId": "3a3f8bb3-c13e-44a1-c45c-8a743f1b41bb"
      },
      "execution_count": 3,
      "outputs": [
        {
          "output_type": "stream",
          "name": "stdout",
          "text": [
            "inner: nonlocal\n",
            "outer: nonlocal\n"
          ]
        }
      ]
    }
  ]
}